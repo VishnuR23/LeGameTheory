{
 "cells": [
  {
   "cell_type": "code",
   "execution_count": 19,
   "id": "27908ad0-9d81-4c22-a7fd-85f5cb8dc09e",
   "metadata": {},
   "outputs": [],
   "source": [
    "import numpy as np \n",
    "import pandas as pd"
   ]
  },
  {
   "cell_type": "code",
   "execution_count": 20,
   "id": "0bef3614-ffe2-4e40-92e4-5815ab9c46bd",
   "metadata": {},
   "outputs": [],
   "source": [
    "matchups_data = pd.read_csv('matchupsActual.csv')"
   ]
  },
  {
   "cell_type": "code",
   "execution_count": 21,
   "id": "f4c6395d-4cd0-4bd4-b268-abb72951f97d",
   "metadata": {},
   "outputs": [],
   "source": [
    "n = 5\n",
    "matrix_initial = np.zeros((n, n))\n",
    "counts = np.zeros((n, n))\n",
    "\n",
    "for _,row in matchups_data.iterrows():\n",
    "    i = int(row['TEAM_1_STRATEGY'])\n",
    "    j = int(row['TEAM_2_STRATEGY'])\n",
    "\n",
    "    if row['WINNER'] == row['TEAM_1']:\n",
    "        matrix_initial[i][j] += 1\n",
    "    else:\n",
    "        matrix_initial[j][i] += 1\n",
    "    counts[i][j] += 1\n",
    "    counts[j][i] += 1\n",
    "\n",
    "with np.errstate(divide = 'ignore', invalid = 'ignore'):\n",
    "    payoff_matrix = np.divide(matrix_initial, counts)\n",
    "    payoff_matrix[np.isnan(payoff_matrix)] = 0\n",
    "    \n",
    "pd.DataFrame(payoff_matrix).to_csv('payoff_matrix.csv', index = False)"
   ]
  },
  {
   "cell_type": "code",
   "execution_count": null,
   "id": "35b038fe-15f7-4a52-b286-4a6a488ecce5",
   "metadata": {},
   "outputs": [],
   "source": []
  }
 ],
 "metadata": {
  "kernelspec": {
   "display_name": "Python 3 (ipykernel)",
   "language": "python",
   "name": "python3"
  },
  "language_info": {
   "codemirror_mode": {
    "name": "ipython",
    "version": 3
   },
   "file_extension": ".py",
   "mimetype": "text/x-python",
   "name": "python",
   "nbconvert_exporter": "python",
   "pygments_lexer": "ipython3",
   "version": "3.9.13"
  }
 },
 "nbformat": 4,
 "nbformat_minor": 5
}
