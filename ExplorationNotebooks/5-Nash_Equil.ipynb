{
 "cells": [
  {
   "cell_type": "code",
   "execution_count": 1,
   "id": "c2288243-db40-4541-9fc9-a4569b1f08b7",
   "metadata": {},
   "outputs": [],
   "source": [
    "import nashpy as nash\n",
    "import pandas as pd"
   ]
  },
  {
   "cell_type": "code",
   "execution_count": 5,
   "id": "c6b5358a-2410-4192-a082-105b8779a3ab",
   "metadata": {},
   "outputs": [],
   "source": [
    "P = pd.read_csv('payoff_matrix.csv').values"
   ]
  },
  {
   "cell_type": "code",
   "execution_count": 6,
   "id": "1a4ba129-5613-47b5-b75a-aae700bcba41",
   "metadata": {},
   "outputs": [],
   "source": [
    "Q = 1 - P.T"
   ]
  },
  {
   "cell_type": "code",
   "execution_count": 7,
   "id": "82ee8d45-c394-49fe-ac20-bed7e3fdf9cf",
   "metadata": {},
   "outputs": [],
   "source": [
    "game = nash.Game(P, Q)"
   ]
  },
  {
   "cell_type": "code",
   "execution_count": 8,
   "id": "bbccd752-e9c5-4415-a400-36bea21a9ddc",
   "metadata": {},
   "outputs": [],
   "source": [
    "equil = list(game.support_enumeration())"
   ]
  },
  {
   "cell_type": "code",
   "execution_count": 9,
   "id": "3da5a625-c165-45d1-9592-3fc1047d55b9",
   "metadata": {},
   "outputs": [
    {
     "name": "stdout",
     "output_type": "stream",
     "text": [
      "Equilbirum 1:\n",
      "Team 1 Strategy:  [1. 0. 0. 0. 0.]\n",
      "Team 2 Strategy:  [0. 0. 1. 0. 0.]\n",
      "---\n",
      "Equilbirum 2:\n",
      "Team 1 Strategy:  [0. 0. 0. 1. 0.]\n",
      "Team 2 Strategy:  [1. 0. 0. 0. 0.]\n",
      "---\n",
      "Equilbirum 3:\n",
      "Team 1 Strategy:  [0. 0. 0. 0. 1.]\n",
      "Team 2 Strategy:  [0. 0. 0. 1. 0.]\n",
      "---\n",
      "Equilbirum 4:\n",
      "Team 1 Strategy:  [0.5688351 0.        0.        0.4311649 0.       ]\n",
      "Team 2 Strategy:  [0.89107413 0.         0.10892587 0.         0.        ]\n",
      "---\n",
      "Equilbirum 5:\n",
      "Team 1 Strategy:  [0.62123385 0.         0.         0.         0.37876615]\n",
      "Team 2 Strategy:  [0.         0.         0.78135865 0.21864135 0.        ]\n",
      "---\n",
      "Equilbirum 6:\n",
      "Team 1 Strategy:  [0.         0.16484876 0.         0.83515124 0.        ]\n",
      "Team 2 Strategy:  [0.8728877 0.        0.        0.1271123 0.       ]\n",
      "---\n",
      "Equilbirum 7:\n",
      "Team 1 Strategy:  [0.47027374 0.16484876 0.         0.3648775  0.        ]\n",
      "Team 2 Strategy:  [0.86252319 0.         0.10892587 0.02855094 0.        ]\n",
      "---\n"
     ]
    }
   ],
   "source": [
    "for i, eq in enumerate(equil):\n",
    "    print(f\"Equilbirum {i + 1}:\")\n",
    "    print(\"Team 1 Strategy: \", eq[0])\n",
    "    print(\"Team 2 Strategy: \", eq[1])\n",
    "    print(\"---\")"
   ]
  },
  {
   "cell_type": "code",
   "execution_count": null,
   "id": "e49bd757-65e9-498b-9ff9-812f4905a887",
   "metadata": {},
   "outputs": [],
   "source": []
  }
 ],
 "metadata": {
  "kernelspec": {
   "display_name": "Python 3 (ipykernel)",
   "language": "python",
   "name": "python3"
  },
  "language_info": {
   "codemirror_mode": {
    "name": "ipython",
    "version": 3
   },
   "file_extension": ".py",
   "mimetype": "text/x-python",
   "name": "python",
   "nbconvert_exporter": "python",
   "pygments_lexer": "ipython3",
   "version": "3.9.13"
  }
 },
 "nbformat": 4,
 "nbformat_minor": 5
}
