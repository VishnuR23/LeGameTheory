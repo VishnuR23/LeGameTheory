{
 "cells": [
  {
   "cell_type": "code",
   "execution_count": 8,
   "id": "c29964e8-c44d-4bab-aa3a-f1c9619457e5",
   "metadata": {},
   "outputs": [],
   "source": [
    "import pandas as pd\n",
    "import random"
   ]
  },
  {
   "cell_type": "code",
   "execution_count": 9,
   "id": "ba6a4cc3-e124-432d-8671-76c5d29f413a",
   "metadata": {},
   "outputs": [],
   "source": [
    "df = pd.read_csv('Strategy_labeled_games.csv')"
   ]
  },
  {
   "cell_type": "code",
   "execution_count": 11,
   "id": "110c3eeb-b331-44e2-aa51-761a88b60d6f",
   "metadata": {},
   "outputs": [],
   "source": [
    "matchups = []\n",
    "for game_id, group in df.groupby('GAME_ID'):\n",
    "    if len(group) != 2:\n",
    "        continue\n",
    "\n",
    "    teamA, teamB = group.iloc[0], group.iloc[1]\n",
    "\n",
    "    if random.random() < 0.5:\n",
    "        team1, team2 = teamA, teamB\n",
    "    else:\n",
    "        team1, team2 = teamB, teamA\n",
    "\n",
    "    matchups.append({\n",
    "        'GAME_ID': game_id,\n",
    "        'TEAM_1': team1['TEAM_ABBREVIATION'],\n",
    "        'TEAM_2': team2['TEAM_ABBREVIATION'],\n",
    "        'TEAM_1_STRATEGY': team1['STRATEGY_LABEL'],\n",
    "        'TEAM_2_STRATEGY': team2['STRATEGY_LABEL'],\n",
    "        'TEAM_1_PTS': team1['PTS'], \n",
    "        'TEAM_2_PTS': team2['PTS'],\n",
    "        'WINNER': team1['TEAM_ABBREVIATION'] if team1['PTS'] > team2['PTS'] else team2['TEAM_ABBREVIATION']\n",
    "    })\n",
    "\n",
    "matchup_df = pd.DataFrame(matchups)\n",
    "matchup_df.to_csv('matchupsActual.csv', index = False)"
   ]
  },
  {
   "cell_type": "code",
   "execution_count": null,
   "id": "25f955b3-f52e-4302-9952-0f47450fbdd2",
   "metadata": {},
   "outputs": [],
   "source": []
  }
 ],
 "metadata": {
  "kernelspec": {
   "display_name": "Python 3 (ipykernel)",
   "language": "python",
   "name": "python3"
  },
  "language_info": {
   "codemirror_mode": {
    "name": "ipython",
    "version": 3
   },
   "file_extension": ".py",
   "mimetype": "text/x-python",
   "name": "python",
   "nbconvert_exporter": "python",
   "pygments_lexer": "ipython3",
   "version": "3.9.13"
  }
 },
 "nbformat": 4,
 "nbformat_minor": 5
}
